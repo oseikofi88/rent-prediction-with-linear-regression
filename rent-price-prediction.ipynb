{
 "cells": [
  {
   "cell_type": "code",
   "execution_count": 145,
   "metadata": {},
   "outputs": [],
   "source": [
    "import pandas as pd\n",
    "import numpy as np\n",
    "\n",
    "import seaborn as sns\n",
    "from matplotlib import pyplot as plt\n",
    "\n",
    "from datetime import datetime, date\n",
    "from dateutil.relativedelta import relativedelta\n",
    "\n",
    "%matplotlib inline"
   ]
  },
  {
   "cell_type": "code",
   "execution_count": 146,
   "metadata": {},
   "outputs": [],
   "source": [
    "data=\"/home/richard/Downloads/New Wave/mali/House_Rent_Dataset.csv\""
   ]
  },
  {
   "cell_type": "code",
   "execution_count": 147,
   "metadata": {},
   "outputs": [],
   "source": [
    "dataFrame = pd.read_csv(data)"
   ]
  },
  {
   "cell_type": "code",
   "execution_count": 148,
   "metadata": {},
   "outputs": [
    {
     "data": {
      "text/html": [
       "<div>\n",
       "<style scoped>\n",
       "    .dataframe tbody tr th:only-of-type {\n",
       "        vertical-align: middle;\n",
       "    }\n",
       "\n",
       "    .dataframe tbody tr th {\n",
       "        vertical-align: top;\n",
       "    }\n",
       "\n",
       "    .dataframe thead th {\n",
       "        text-align: right;\n",
       "    }\n",
       "</style>\n",
       "<table border=\"1\" class=\"dataframe\">\n",
       "  <thead>\n",
       "    <tr style=\"text-align: right;\">\n",
       "      <th></th>\n",
       "      <th>Posted On</th>\n",
       "      <th>BHK</th>\n",
       "      <th>Rent</th>\n",
       "      <th>Size</th>\n",
       "      <th>Floor</th>\n",
       "      <th>Area Type</th>\n",
       "      <th>Area Locality</th>\n",
       "      <th>City</th>\n",
       "      <th>Furnishing Status</th>\n",
       "      <th>Tenant Preferred</th>\n",
       "      <th>Bathroom</th>\n",
       "      <th>Point of Contact</th>\n",
       "    </tr>\n",
       "  </thead>\n",
       "  <tbody>\n",
       "    <tr>\n",
       "      <th>0</th>\n",
       "      <td>2022-05-18</td>\n",
       "      <td>2</td>\n",
       "      <td>10000</td>\n",
       "      <td>1100</td>\n",
       "      <td>Ground out of 2</td>\n",
       "      <td>Super Area</td>\n",
       "      <td>Bandel</td>\n",
       "      <td>Kolkata</td>\n",
       "      <td>Unfurnished</td>\n",
       "      <td>Bachelors/Family</td>\n",
       "      <td>2</td>\n",
       "      <td>Contact Owner</td>\n",
       "    </tr>\n",
       "    <tr>\n",
       "      <th>1</th>\n",
       "      <td>2022-05-13</td>\n",
       "      <td>2</td>\n",
       "      <td>20000</td>\n",
       "      <td>800</td>\n",
       "      <td>1 out of 3</td>\n",
       "      <td>Super Area</td>\n",
       "      <td>Phool Bagan, Kankurgachi</td>\n",
       "      <td>Kolkata</td>\n",
       "      <td>Semi-Furnished</td>\n",
       "      <td>Bachelors/Family</td>\n",
       "      <td>1</td>\n",
       "      <td>Contact Owner</td>\n",
       "    </tr>\n",
       "    <tr>\n",
       "      <th>2</th>\n",
       "      <td>2022-05-16</td>\n",
       "      <td>2</td>\n",
       "      <td>17000</td>\n",
       "      <td>1000</td>\n",
       "      <td>1 out of 3</td>\n",
       "      <td>Super Area</td>\n",
       "      <td>Salt Lake City Sector 2</td>\n",
       "      <td>Kolkata</td>\n",
       "      <td>Semi-Furnished</td>\n",
       "      <td>Bachelors/Family</td>\n",
       "      <td>1</td>\n",
       "      <td>Contact Owner</td>\n",
       "    </tr>\n",
       "    <tr>\n",
       "      <th>3</th>\n",
       "      <td>2022-07-04</td>\n",
       "      <td>2</td>\n",
       "      <td>10000</td>\n",
       "      <td>800</td>\n",
       "      <td>1 out of 2</td>\n",
       "      <td>Super Area</td>\n",
       "      <td>Dumdum Park</td>\n",
       "      <td>Kolkata</td>\n",
       "      <td>Unfurnished</td>\n",
       "      <td>Bachelors/Family</td>\n",
       "      <td>1</td>\n",
       "      <td>Contact Owner</td>\n",
       "    </tr>\n",
       "    <tr>\n",
       "      <th>4</th>\n",
       "      <td>2022-05-09</td>\n",
       "      <td>2</td>\n",
       "      <td>7500</td>\n",
       "      <td>850</td>\n",
       "      <td>1 out of 2</td>\n",
       "      <td>Carpet Area</td>\n",
       "      <td>South Dum Dum</td>\n",
       "      <td>Kolkata</td>\n",
       "      <td>Unfurnished</td>\n",
       "      <td>Bachelors</td>\n",
       "      <td>1</td>\n",
       "      <td>Contact Owner</td>\n",
       "    </tr>\n",
       "    <tr>\n",
       "      <th>...</th>\n",
       "      <td>...</td>\n",
       "      <td>...</td>\n",
       "      <td>...</td>\n",
       "      <td>...</td>\n",
       "      <td>...</td>\n",
       "      <td>...</td>\n",
       "      <td>...</td>\n",
       "      <td>...</td>\n",
       "      <td>...</td>\n",
       "      <td>...</td>\n",
       "      <td>...</td>\n",
       "      <td>...</td>\n",
       "    </tr>\n",
       "    <tr>\n",
       "      <th>4741</th>\n",
       "      <td>2022-05-18</td>\n",
       "      <td>2</td>\n",
       "      <td>15000</td>\n",
       "      <td>1000</td>\n",
       "      <td>3 out of 5</td>\n",
       "      <td>Carpet Area</td>\n",
       "      <td>Bandam Kommu</td>\n",
       "      <td>Hyderabad</td>\n",
       "      <td>Semi-Furnished</td>\n",
       "      <td>Bachelors/Family</td>\n",
       "      <td>2</td>\n",
       "      <td>Contact Owner</td>\n",
       "    </tr>\n",
       "    <tr>\n",
       "      <th>4742</th>\n",
       "      <td>2022-05-15</td>\n",
       "      <td>3</td>\n",
       "      <td>29000</td>\n",
       "      <td>2000</td>\n",
       "      <td>1 out of 4</td>\n",
       "      <td>Super Area</td>\n",
       "      <td>Manikonda, Hyderabad</td>\n",
       "      <td>Hyderabad</td>\n",
       "      <td>Semi-Furnished</td>\n",
       "      <td>Bachelors/Family</td>\n",
       "      <td>3</td>\n",
       "      <td>Contact Owner</td>\n",
       "    </tr>\n",
       "    <tr>\n",
       "      <th>4743</th>\n",
       "      <td>2022-07-10</td>\n",
       "      <td>3</td>\n",
       "      <td>35000</td>\n",
       "      <td>1750</td>\n",
       "      <td>3 out of 5</td>\n",
       "      <td>Carpet Area</td>\n",
       "      <td>Himayath Nagar, NH 7</td>\n",
       "      <td>Hyderabad</td>\n",
       "      <td>Semi-Furnished</td>\n",
       "      <td>Bachelors/Family</td>\n",
       "      <td>3</td>\n",
       "      <td>Contact Agent</td>\n",
       "    </tr>\n",
       "    <tr>\n",
       "      <th>4744</th>\n",
       "      <td>2022-07-06</td>\n",
       "      <td>3</td>\n",
       "      <td>45000</td>\n",
       "      <td>1500</td>\n",
       "      <td>23 out of 34</td>\n",
       "      <td>Carpet Area</td>\n",
       "      <td>Gachibowli</td>\n",
       "      <td>Hyderabad</td>\n",
       "      <td>Semi-Furnished</td>\n",
       "      <td>Family</td>\n",
       "      <td>2</td>\n",
       "      <td>Contact Agent</td>\n",
       "    </tr>\n",
       "    <tr>\n",
       "      <th>4745</th>\n",
       "      <td>2022-05-04</td>\n",
       "      <td>2</td>\n",
       "      <td>15000</td>\n",
       "      <td>1000</td>\n",
       "      <td>4 out of 5</td>\n",
       "      <td>Carpet Area</td>\n",
       "      <td>Suchitra Circle</td>\n",
       "      <td>Hyderabad</td>\n",
       "      <td>Unfurnished</td>\n",
       "      <td>Bachelors</td>\n",
       "      <td>2</td>\n",
       "      <td>Contact Owner</td>\n",
       "    </tr>\n",
       "  </tbody>\n",
       "</table>\n",
       "<p>4746 rows × 12 columns</p>\n",
       "</div>"
      ],
      "text/plain": [
       "       Posted On  BHK   Rent  Size            Floor    Area Type  \\\n",
       "0     2022-05-18    2  10000  1100  Ground out of 2   Super Area   \n",
       "1     2022-05-13    2  20000   800       1 out of 3   Super Area   \n",
       "2     2022-05-16    2  17000  1000       1 out of 3   Super Area   \n",
       "3     2022-07-04    2  10000   800       1 out of 2   Super Area   \n",
       "4     2022-05-09    2   7500   850       1 out of 2  Carpet Area   \n",
       "...          ...  ...    ...   ...              ...          ...   \n",
       "4741  2022-05-18    2  15000  1000       3 out of 5  Carpet Area   \n",
       "4742  2022-05-15    3  29000  2000       1 out of 4   Super Area   \n",
       "4743  2022-07-10    3  35000  1750       3 out of 5  Carpet Area   \n",
       "4744  2022-07-06    3  45000  1500     23 out of 34  Carpet Area   \n",
       "4745  2022-05-04    2  15000  1000       4 out of 5  Carpet Area   \n",
       "\n",
       "                 Area Locality       City Furnishing Status  Tenant Preferred  \\\n",
       "0                       Bandel    Kolkata       Unfurnished  Bachelors/Family   \n",
       "1     Phool Bagan, Kankurgachi    Kolkata    Semi-Furnished  Bachelors/Family   \n",
       "2      Salt Lake City Sector 2    Kolkata    Semi-Furnished  Bachelors/Family   \n",
       "3                  Dumdum Park    Kolkata       Unfurnished  Bachelors/Family   \n",
       "4                South Dum Dum    Kolkata       Unfurnished         Bachelors   \n",
       "...                        ...        ...               ...               ...   \n",
       "4741              Bandam Kommu  Hyderabad    Semi-Furnished  Bachelors/Family   \n",
       "4742      Manikonda, Hyderabad  Hyderabad    Semi-Furnished  Bachelors/Family   \n",
       "4743      Himayath Nagar, NH 7  Hyderabad    Semi-Furnished  Bachelors/Family   \n",
       "4744                Gachibowli  Hyderabad    Semi-Furnished            Family   \n",
       "4745           Suchitra Circle  Hyderabad       Unfurnished         Bachelors   \n",
       "\n",
       "      Bathroom Point of Contact  \n",
       "0            2    Contact Owner  \n",
       "1            1    Contact Owner  \n",
       "2            1    Contact Owner  \n",
       "3            1    Contact Owner  \n",
       "4            1    Contact Owner  \n",
       "...        ...              ...  \n",
       "4741         2    Contact Owner  \n",
       "4742         3    Contact Owner  \n",
       "4743         3    Contact Agent  \n",
       "4744         2    Contact Agent  \n",
       "4745         2    Contact Owner  \n",
       "\n",
       "[4746 rows x 12 columns]"
      ]
     },
     "execution_count": 148,
     "metadata": {},
     "output_type": "execute_result"
    }
   ],
   "source": [
    "#describe data\n",
    "dataFrame"
   ]
  },
  {
   "cell_type": "code",
   "execution_count": 149,
   "metadata": {},
   "outputs": [
    {
     "data": {
      "text/plain": [
       "Index(['Posted On', 'BHK', 'Rent', 'Size', 'Floor', 'Area Type',\n",
       "       'Area Locality', 'City', 'Furnishing Status', 'Tenant Preferred',\n",
       "       'Bathroom', 'Point of Contact'],\n",
       "      dtype='object')"
      ]
     },
     "execution_count": 149,
     "metadata": {},
     "output_type": "execute_result"
    }
   ],
   "source": [
    "dataFrame.columns"
   ]
  },
  {
   "cell_type": "code",
   "execution_count": 150,
   "metadata": {},
   "outputs": [
    {
     "data": {
      "text/plain": [
       "Index(['posted_on', 'bhk', 'rent', 'size', 'floor', 'area_type',\n",
       "       'area_locality', 'city', 'furnishing_status', 'tenant_preferred',\n",
       "       'bathroom', 'point_of_contact'],\n",
       "      dtype='object')"
      ]
     },
     "execution_count": 150,
     "metadata": {},
     "output_type": "execute_result"
    }
   ],
   "source": [
    "#data validation and sanitization\n",
    "\n",
    "dataFrame.columns = dataFrame.columns.str.lower().str.replace(' ', '_')\n",
    "dataFrame.columns"
   ]
  },
  {
   "cell_type": "code",
   "execution_count": 151,
   "metadata": {},
   "outputs": [
    {
     "data": {
      "text/plain": [
       "posted_on            object\n",
       "bhk                   int64\n",
       "rent                  int64\n",
       "size                  int64\n",
       "floor                object\n",
       "area_type            object\n",
       "area_locality        object\n",
       "city                 object\n",
       "furnishing_status    object\n",
       "tenant_preferred     object\n",
       "bathroom              int64\n",
       "point_of_contact     object\n",
       "dtype: object"
      ]
     },
     "execution_count": 151,
     "metadata": {},
     "output_type": "execute_result"
    }
   ],
   "source": [
    "#understand the data better\n",
    "\n",
    "dataFrame.dtypes"
   ]
  },
  {
   "cell_type": "code",
   "execution_count": 152,
   "metadata": {},
   "outputs": [
    {
     "data": {
      "text/html": [
       "<div>\n",
       "<style scoped>\n",
       "    .dataframe tbody tr th:only-of-type {\n",
       "        vertical-align: middle;\n",
       "    }\n",
       "\n",
       "    .dataframe tbody tr th {\n",
       "        vertical-align: top;\n",
       "    }\n",
       "\n",
       "    .dataframe thead th {\n",
       "        text-align: right;\n",
       "    }\n",
       "</style>\n",
       "<table border=\"1\" class=\"dataframe\">\n",
       "  <thead>\n",
       "    <tr style=\"text-align: right;\">\n",
       "      <th></th>\n",
       "      <th>posted_on</th>\n",
       "      <th>bhk</th>\n",
       "      <th>rent</th>\n",
       "      <th>size</th>\n",
       "      <th>floor</th>\n",
       "      <th>area_type</th>\n",
       "      <th>area_locality</th>\n",
       "      <th>city</th>\n",
       "      <th>furnishing_status</th>\n",
       "      <th>tenant_preferred</th>\n",
       "      <th>bathroom</th>\n",
       "      <th>point_of_contact</th>\n",
       "    </tr>\n",
       "  </thead>\n",
       "  <tbody>\n",
       "    <tr>\n",
       "      <th>0</th>\n",
       "      <td>2022-05-18</td>\n",
       "      <td>2</td>\n",
       "      <td>10000</td>\n",
       "      <td>1100</td>\n",
       "      <td>Ground out of 2</td>\n",
       "      <td>Super Area</td>\n",
       "      <td>Bandel</td>\n",
       "      <td>Kolkata</td>\n",
       "      <td>Unfurnished</td>\n",
       "      <td>Bachelors/Family</td>\n",
       "      <td>2</td>\n",
       "      <td>Contact Owner</td>\n",
       "    </tr>\n",
       "    <tr>\n",
       "      <th>1</th>\n",
       "      <td>2022-05-13</td>\n",
       "      <td>2</td>\n",
       "      <td>20000</td>\n",
       "      <td>800</td>\n",
       "      <td>1 out of 3</td>\n",
       "      <td>Super Area</td>\n",
       "      <td>Phool Bagan, Kankurgachi</td>\n",
       "      <td>Kolkata</td>\n",
       "      <td>Semi-Furnished</td>\n",
       "      <td>Bachelors/Family</td>\n",
       "      <td>1</td>\n",
       "      <td>Contact Owner</td>\n",
       "    </tr>\n",
       "    <tr>\n",
       "      <th>2</th>\n",
       "      <td>2022-05-16</td>\n",
       "      <td>2</td>\n",
       "      <td>17000</td>\n",
       "      <td>1000</td>\n",
       "      <td>1 out of 3</td>\n",
       "      <td>Super Area</td>\n",
       "      <td>Salt Lake City Sector 2</td>\n",
       "      <td>Kolkata</td>\n",
       "      <td>Semi-Furnished</td>\n",
       "      <td>Bachelors/Family</td>\n",
       "      <td>1</td>\n",
       "      <td>Contact Owner</td>\n",
       "    </tr>\n",
       "    <tr>\n",
       "      <th>3</th>\n",
       "      <td>2022-07-04</td>\n",
       "      <td>2</td>\n",
       "      <td>10000</td>\n",
       "      <td>800</td>\n",
       "      <td>1 out of 2</td>\n",
       "      <td>Super Area</td>\n",
       "      <td>Dumdum Park</td>\n",
       "      <td>Kolkata</td>\n",
       "      <td>Unfurnished</td>\n",
       "      <td>Bachelors/Family</td>\n",
       "      <td>1</td>\n",
       "      <td>Contact Owner</td>\n",
       "    </tr>\n",
       "    <tr>\n",
       "      <th>4</th>\n",
       "      <td>2022-05-09</td>\n",
       "      <td>2</td>\n",
       "      <td>7500</td>\n",
       "      <td>850</td>\n",
       "      <td>1 out of 2</td>\n",
       "      <td>Carpet Area</td>\n",
       "      <td>South Dum Dum</td>\n",
       "      <td>Kolkata</td>\n",
       "      <td>Unfurnished</td>\n",
       "      <td>Bachelors</td>\n",
       "      <td>1</td>\n",
       "      <td>Contact Owner</td>\n",
       "    </tr>\n",
       "    <tr>\n",
       "      <th>5</th>\n",
       "      <td>2022-04-29</td>\n",
       "      <td>2</td>\n",
       "      <td>7000</td>\n",
       "      <td>600</td>\n",
       "      <td>Ground out of 1</td>\n",
       "      <td>Super Area</td>\n",
       "      <td>Thakurpukur</td>\n",
       "      <td>Kolkata</td>\n",
       "      <td>Unfurnished</td>\n",
       "      <td>Bachelors/Family</td>\n",
       "      <td>2</td>\n",
       "      <td>Contact Owner</td>\n",
       "    </tr>\n",
       "    <tr>\n",
       "      <th>6</th>\n",
       "      <td>2022-06-21</td>\n",
       "      <td>2</td>\n",
       "      <td>10000</td>\n",
       "      <td>700</td>\n",
       "      <td>Ground out of 4</td>\n",
       "      <td>Super Area</td>\n",
       "      <td>Malancha</td>\n",
       "      <td>Kolkata</td>\n",
       "      <td>Unfurnished</td>\n",
       "      <td>Bachelors</td>\n",
       "      <td>2</td>\n",
       "      <td>Contact Agent</td>\n",
       "    </tr>\n",
       "    <tr>\n",
       "      <th>7</th>\n",
       "      <td>2022-06-21</td>\n",
       "      <td>1</td>\n",
       "      <td>5000</td>\n",
       "      <td>250</td>\n",
       "      <td>1 out of 2</td>\n",
       "      <td>Super Area</td>\n",
       "      <td>Malancha</td>\n",
       "      <td>Kolkata</td>\n",
       "      <td>Unfurnished</td>\n",
       "      <td>Bachelors</td>\n",
       "      <td>1</td>\n",
       "      <td>Contact Agent</td>\n",
       "    </tr>\n",
       "    <tr>\n",
       "      <th>8</th>\n",
       "      <td>2022-06-07</td>\n",
       "      <td>2</td>\n",
       "      <td>26000</td>\n",
       "      <td>800</td>\n",
       "      <td>1 out of 2</td>\n",
       "      <td>Carpet Area</td>\n",
       "      <td>Palm Avenue Kolkata, Ballygunge</td>\n",
       "      <td>Kolkata</td>\n",
       "      <td>Unfurnished</td>\n",
       "      <td>Bachelors</td>\n",
       "      <td>2</td>\n",
       "      <td>Contact Agent</td>\n",
       "    </tr>\n",
       "    <tr>\n",
       "      <th>9</th>\n",
       "      <td>2022-06-20</td>\n",
       "      <td>2</td>\n",
       "      <td>10000</td>\n",
       "      <td>1000</td>\n",
       "      <td>1 out of 3</td>\n",
       "      <td>Carpet Area</td>\n",
       "      <td>Natunhat</td>\n",
       "      <td>Kolkata</td>\n",
       "      <td>Semi-Furnished</td>\n",
       "      <td>Bachelors/Family</td>\n",
       "      <td>2</td>\n",
       "      <td>Contact Owner</td>\n",
       "    </tr>\n",
       "  </tbody>\n",
       "</table>\n",
       "</div>"
      ],
      "text/plain": [
       "    posted_on  bhk   rent  size            floor    area_type  \\\n",
       "0  2022-05-18    2  10000  1100  Ground out of 2   Super Area   \n",
       "1  2022-05-13    2  20000   800       1 out of 3   Super Area   \n",
       "2  2022-05-16    2  17000  1000       1 out of 3   Super Area   \n",
       "3  2022-07-04    2  10000   800       1 out of 2   Super Area   \n",
       "4  2022-05-09    2   7500   850       1 out of 2  Carpet Area   \n",
       "5  2022-04-29    2   7000   600  Ground out of 1   Super Area   \n",
       "6  2022-06-21    2  10000   700  Ground out of 4   Super Area   \n",
       "7  2022-06-21    1   5000   250       1 out of 2   Super Area   \n",
       "8  2022-06-07    2  26000   800       1 out of 2  Carpet Area   \n",
       "9  2022-06-20    2  10000  1000       1 out of 3  Carpet Area   \n",
       "\n",
       "                     area_locality     city furnishing_status  \\\n",
       "0                           Bandel  Kolkata       Unfurnished   \n",
       "1         Phool Bagan, Kankurgachi  Kolkata    Semi-Furnished   \n",
       "2          Salt Lake City Sector 2  Kolkata    Semi-Furnished   \n",
       "3                      Dumdum Park  Kolkata       Unfurnished   \n",
       "4                    South Dum Dum  Kolkata       Unfurnished   \n",
       "5                      Thakurpukur  Kolkata       Unfurnished   \n",
       "6                         Malancha  Kolkata       Unfurnished   \n",
       "7                         Malancha  Kolkata       Unfurnished   \n",
       "8  Palm Avenue Kolkata, Ballygunge  Kolkata       Unfurnished   \n",
       "9                         Natunhat  Kolkata    Semi-Furnished   \n",
       "\n",
       "   tenant_preferred  bathroom point_of_contact  \n",
       "0  Bachelors/Family         2    Contact Owner  \n",
       "1  Bachelors/Family         1    Contact Owner  \n",
       "2  Bachelors/Family         1    Contact Owner  \n",
       "3  Bachelors/Family         1    Contact Owner  \n",
       "4         Bachelors         1    Contact Owner  \n",
       "5  Bachelors/Family         2    Contact Owner  \n",
       "6         Bachelors         2    Contact Agent  \n",
       "7         Bachelors         1    Contact Agent  \n",
       "8         Bachelors         2    Contact Agent  \n",
       "9  Bachelors/Family         2    Contact Owner  "
      ]
     },
     "execution_count": 152,
     "metadata": {},
     "output_type": "execute_result"
    }
   ],
   "source": [
    "dataFrame.head(10)"
   ]
  },
  {
   "cell_type": "code",
   "execution_count": 153,
   "metadata": {},
   "outputs": [
    {
     "data": {
      "image/png": "[encoded data removed]",
      "text/plain": [
       "<Figure size 600x400 with 1 Axes>"
      ]
     },
     "metadata": {},
     "output_type": "display_data"
    }
   ],
   "source": [
    "#EDA\n",
    "plt.figure(figsize=(6,4))\n",
    "\n",
    "# sns.histplot(df.rent, bins=70)\n",
    "sns.histplot(dataFrame.rent, bins=10, color='black', alpha=1)\n",
    "plt.xlabel('Price')\n",
    "plt.ylabel('Number of houses')\n",
    "plt.title('Distribution of prices')\n",
    "plt.show()"
   ]
  },
  {
   "cell_type": "code",
   "execution_count": 154,
   "metadata": {},
   "outputs": [
    {
     "data": {
      "text/plain": [
       "np.int64(3500000)"
      ]
     },
     "execution_count": 154,
     "metadata": {},
     "output_type": "execute_result"
    }
   ],
   "source": [
    "dataFrame['rent'].max()"
   ]
  },
  {
   "cell_type": "code",
   "execution_count": 155,
   "metadata": {},
   "outputs": [
    {
     "data": {
      "image/png": "[encoded data removed]",
      "text/plain": [
       "<Figure size 600x400 with 1 Axes>"
      ]
     },
     "metadata": {},
     "output_type": "display_data"
    }
   ],
   "source": [
    "\n",
    "plt.figure(figsize=(6,4))\n",
    "\n",
    "# sns.histplot(df.rent, bins=70)\n",
    "sns.histplot(dataFrame.rent[dataFrame.rent < 400000], bins=10, color='black', alpha=1)\n",
    "plt.xlabel('Price')\n",
    "plt.ylabel('Number of houses')\n",
    "plt.title('Distribution of prices')\n",
    "plt.show()"
   ]
  },
  {
   "cell_type": "code",
   "execution_count": 156,
   "metadata": {},
   "outputs": [
    {
     "data": {
      "image/png": "[encoded data removed]",
      "text/plain": [
       "<Figure size 600x400 with 1 Axes>"
      ]
     },
     "metadata": {},
     "output_type": "display_data"
    }
   ],
   "source": [
    "plt.figure(figsize=(6,4))\n",
    "\n",
    "sns.histplot(np.log1p(dataFrame['rent']), bins=70, color='black', alpha=1)\n",
    "# plt.xlabel('Price')\n",
    "plt.ylabel('Number of houses')\n",
    "plt.title('Distribution of prices')\n",
    "plt.show()"
   ]
  },
  {
   "cell_type": "code",
   "execution_count": 157,
   "metadata": {},
   "outputs": [
    {
     "data": {
      "text/plain": [
       "posted_on            0\n",
       "bhk                  0\n",
       "rent                 0\n",
       "size                 0\n",
       "floor                0\n",
       "area_type            0\n",
       "area_locality        0\n",
       "city                 0\n",
       "furnishing_status    0\n",
       "tenant_preferred     0\n",
       "bathroom             0\n",
       "point_of_contact     0\n",
       "dtype: int64"
      ]
     },
     "execution_count": 157,
     "metadata": {},
     "output_type": "execute_result"
    }
   ],
   "source": [
    "#start data cleaning by filling the empty/null values\n",
    "dataFrame.isnull().sum()\n"
   ]
  },
  {
   "cell_type": "code",
   "execution_count": 158,
   "metadata": {},
   "outputs": [
    {
     "data": {
      "text/html": [
       "<div>\n",
       "<style scoped>\n",
       "    .dataframe tbody tr th:only-of-type {\n",
       "        vertical-align: middle;\n",
       "    }\n",
       "\n",
       "    .dataframe tbody tr th {\n",
       "        vertical-align: top;\n",
       "    }\n",
       "\n",
       "    .dataframe thead th {\n",
       "        text-align: right;\n",
       "    }\n",
       "</style>\n",
       "<table border=\"1\" class=\"dataframe\">\n",
       "  <thead>\n",
       "    <tr style=\"text-align: right;\">\n",
       "      <th></th>\n",
       "      <th>posted_on</th>\n",
       "      <th>bhk</th>\n",
       "      <th>rent</th>\n",
       "      <th>size</th>\n",
       "      <th>floor</th>\n",
       "      <th>area_type</th>\n",
       "      <th>area_locality</th>\n",
       "      <th>city</th>\n",
       "      <th>furnishing_status</th>\n",
       "      <th>tenant_preferred</th>\n",
       "      <th>bathroom</th>\n",
       "      <th>point_of_contact</th>\n",
       "    </tr>\n",
       "  </thead>\n",
       "  <tbody>\n",
       "    <tr>\n",
       "      <th>4014</th>\n",
       "      <td>2022-05-25</td>\n",
       "      <td>2</td>\n",
       "      <td>9500</td>\n",
       "      <td>1290</td>\n",
       "      <td>1 out of 2</td>\n",
       "      <td>Super Area</td>\n",
       "      <td>Jillelguda, Medbowli</td>\n",
       "      <td>Hyderabad</td>\n",
       "      <td>Semi-Furnished</td>\n",
       "      <td>Bachelors/Family</td>\n",
       "      <td>2</td>\n",
       "      <td>Contact Owner</td>\n",
       "    </tr>\n",
       "    <tr>\n",
       "      <th>4709</th>\n",
       "      <td>2022-05-20</td>\n",
       "      <td>1</td>\n",
       "      <td>6000</td>\n",
       "      <td>400</td>\n",
       "      <td>1 out of 3</td>\n",
       "      <td>Super Area</td>\n",
       "      <td>Nagaram</td>\n",
       "      <td>Hyderabad</td>\n",
       "      <td>Unfurnished</td>\n",
       "      <td>Bachelors/Family</td>\n",
       "      <td>1</td>\n",
       "      <td>Contact Owner</td>\n",
       "    </tr>\n",
       "    <tr>\n",
       "      <th>1649</th>\n",
       "      <td>2022-06-05</td>\n",
       "      <td>2</td>\n",
       "      <td>17500</td>\n",
       "      <td>1080</td>\n",
       "      <td>1 out of 4</td>\n",
       "      <td>Super Area</td>\n",
       "      <td>Electronic City</td>\n",
       "      <td>Bangalore</td>\n",
       "      <td>Furnished</td>\n",
       "      <td>Bachelors/Family</td>\n",
       "      <td>2</td>\n",
       "      <td>Contact Owner</td>\n",
       "    </tr>\n",
       "    <tr>\n",
       "      <th>2648</th>\n",
       "      <td>2022-05-05</td>\n",
       "      <td>2</td>\n",
       "      <td>10000</td>\n",
       "      <td>55</td>\n",
       "      <td>2 out of 4</td>\n",
       "      <td>Super Area</td>\n",
       "      <td>Dwarka Sector 8</td>\n",
       "      <td>Delhi</td>\n",
       "      <td>Unfurnished</td>\n",
       "      <td>Bachelors/Family</td>\n",
       "      <td>2</td>\n",
       "      <td>Contact Owner</td>\n",
       "    </tr>\n",
       "    <tr>\n",
       "      <th>2717</th>\n",
       "      <td>2022-07-04</td>\n",
       "      <td>2</td>\n",
       "      <td>16500</td>\n",
       "      <td>90</td>\n",
       "      <td>4 out of 5</td>\n",
       "      <td>Super Area</td>\n",
       "      <td>DS 19</td>\n",
       "      <td>Delhi</td>\n",
       "      <td>Semi-Furnished</td>\n",
       "      <td>Bachelors/Family</td>\n",
       "      <td>2</td>\n",
       "      <td>Contact Owner</td>\n",
       "    </tr>\n",
       "    <tr>\n",
       "      <th>...</th>\n",
       "      <td>...</td>\n",
       "      <td>...</td>\n",
       "      <td>...</td>\n",
       "      <td>...</td>\n",
       "      <td>...</td>\n",
       "      <td>...</td>\n",
       "      <td>...</td>\n",
       "      <td>...</td>\n",
       "      <td>...</td>\n",
       "      <td>...</td>\n",
       "      <td>...</td>\n",
       "      <td>...</td>\n",
       "    </tr>\n",
       "    <tr>\n",
       "      <th>238</th>\n",
       "      <td>2022-05-06</td>\n",
       "      <td>1</td>\n",
       "      <td>5500</td>\n",
       "      <td>1800</td>\n",
       "      <td>Ground out of 2</td>\n",
       "      <td>Super Area</td>\n",
       "      <td>Baranagar</td>\n",
       "      <td>Kolkata</td>\n",
       "      <td>Unfurnished</td>\n",
       "      <td>Bachelors/Family</td>\n",
       "      <td>1</td>\n",
       "      <td>Contact Owner</td>\n",
       "    </tr>\n",
       "    <tr>\n",
       "      <th>3908</th>\n",
       "      <td>2022-05-28</td>\n",
       "      <td>3</td>\n",
       "      <td>35000</td>\n",
       "      <td>1650</td>\n",
       "      <td>5 out of 5</td>\n",
       "      <td>Carpet Area</td>\n",
       "      <td>Kondapur</td>\n",
       "      <td>Hyderabad</td>\n",
       "      <td>Semi-Furnished</td>\n",
       "      <td>Family</td>\n",
       "      <td>3</td>\n",
       "      <td>Contact Owner</td>\n",
       "    </tr>\n",
       "    <tr>\n",
       "      <th>3550</th>\n",
       "      <td>2022-06-19</td>\n",
       "      <td>1</td>\n",
       "      <td>10000</td>\n",
       "      <td>550</td>\n",
       "      <td>Ground out of 4</td>\n",
       "      <td>Super Area</td>\n",
       "      <td>Ambattur</td>\n",
       "      <td>Chennai</td>\n",
       "      <td>Unfurnished</td>\n",
       "      <td>Bachelors/Family</td>\n",
       "      <td>1</td>\n",
       "      <td>Contact Owner</td>\n",
       "    </tr>\n",
       "    <tr>\n",
       "      <th>2540</th>\n",
       "      <td>2022-07-04</td>\n",
       "      <td>1</td>\n",
       "      <td>16000</td>\n",
       "      <td>500</td>\n",
       "      <td>1 out of 4</td>\n",
       "      <td>Super Area</td>\n",
       "      <td>Laxmi Nagar</td>\n",
       "      <td>Delhi</td>\n",
       "      <td>Semi-Furnished</td>\n",
       "      <td>Bachelors/Family</td>\n",
       "      <td>1</td>\n",
       "      <td>Contact Owner</td>\n",
       "    </tr>\n",
       "    <tr>\n",
       "      <th>4231</th>\n",
       "      <td>2022-05-16</td>\n",
       "      <td>2</td>\n",
       "      <td>10000</td>\n",
       "      <td>1400</td>\n",
       "      <td>2 out of 4</td>\n",
       "      <td>Super Area</td>\n",
       "      <td>Ramachandra Puram, NH 9</td>\n",
       "      <td>Hyderabad</td>\n",
       "      <td>Unfurnished</td>\n",
       "      <td>Bachelors/Family</td>\n",
       "      <td>2</td>\n",
       "      <td>Contact Owner</td>\n",
       "    </tr>\n",
       "  </tbody>\n",
       "</table>\n",
       "<p>949 rows × 12 columns</p>\n",
       "</div>"
      ],
      "text/plain": [
       "       posted_on  bhk   rent  size            floor    area_type  \\\n",
       "4014  2022-05-25    2   9500  1290       1 out of 2   Super Area   \n",
       "4709  2022-05-20    1   6000   400       1 out of 3   Super Area   \n",
       "1649  2022-06-05    2  17500  1080       1 out of 4   Super Area   \n",
       "2648  2022-05-05    2  10000    55       2 out of 4   Super Area   \n",
       "2717  2022-07-04    2  16500    90       4 out of 5   Super Area   \n",
       "...          ...  ...    ...   ...              ...          ...   \n",
       "238   2022-05-06    1   5500  1800  Ground out of 2   Super Area   \n",
       "3908  2022-05-28    3  35000  1650       5 out of 5  Carpet Area   \n",
       "3550  2022-06-19    1  10000   550  Ground out of 4   Super Area   \n",
       "2540  2022-07-04    1  16000   500       1 out of 4   Super Area   \n",
       "4231  2022-05-16    2  10000  1400       2 out of 4   Super Area   \n",
       "\n",
       "                area_locality       city furnishing_status  tenant_preferred  \\\n",
       "4014     Jillelguda, Medbowli  Hyderabad    Semi-Furnished  Bachelors/Family   \n",
       "4709                  Nagaram  Hyderabad       Unfurnished  Bachelors/Family   \n",
       "1649          Electronic City  Bangalore         Furnished  Bachelors/Family   \n",
       "2648          Dwarka Sector 8      Delhi       Unfurnished  Bachelors/Family   \n",
       "2717                    DS 19      Delhi    Semi-Furnished  Bachelors/Family   \n",
       "...                       ...        ...               ...               ...   \n",
       "238                 Baranagar    Kolkata       Unfurnished  Bachelors/Family   \n",
       "3908                 Kondapur  Hyderabad    Semi-Furnished            Family   \n",
       "3550                 Ambattur    Chennai       Unfurnished  Bachelors/Family   \n",
       "2540              Laxmi Nagar      Delhi    Semi-Furnished  Bachelors/Family   \n",
       "4231  Ramachandra Puram, NH 9  Hyderabad       Unfurnished  Bachelors/Family   \n",
       "\n",
       "      bathroom point_of_contact  \n",
       "4014         2    Contact Owner  \n",
       "4709         1    Contact Owner  \n",
       "1649         2    Contact Owner  \n",
       "2648         2    Contact Owner  \n",
       "2717         2    Contact Owner  \n",
       "...        ...              ...  \n",
       "238          1    Contact Owner  \n",
       "3908         3    Contact Owner  \n",
       "3550         1    Contact Owner  \n",
       "2540         1    Contact Owner  \n",
       "4231         2    Contact Owner  \n",
       "\n",
       "[949 rows x 12 columns]"
      ]
     },
     "execution_count": 158,
     "metadata": {},
     "output_type": "execute_result"
    }
   ],
   "source": [
    "#validation framework\n",
    "\n",
    "#make randomization static\n",
    "np.random.seed(2)\n",
    "\n",
    "#get length of data\n",
    "n = len(dataFrame) \n",
    "\n",
    "#set a 60 20 20 rule. 60 for training. 20 for testingg, 20 for validation\n",
    "numberOfTestData =  int(n*.2)\n",
    "numberOfValidationData = int(n*.2)\n",
    "numberOfTrainingData = n -(numberOfTestData+numberOfValidationData)\n",
    "\n",
    "#shuffle the data\n",
    "arrayedDataFrame = np.arange(n)\n",
    "np.random.shuffle(arrayedDataFrame)\n",
    "shuffledDataFrame = dataFrame.iloc[arrayedDataFrame]\n",
    "\n",
    "#slice data frame using rule\n",
    "testData = shuffledDataFrame.iloc[:numberOfTestData].copy()\n",
    "validationData = shuffledDataFrame.iloc[numberOfTestData:numberOfTestData+numberOfValidationData].copy()\n",
    "trainingData = shuffledDataFrame.iloc[numberOfTestData+numberOfValidationData:].copy()\n",
    "testData"
   ]
  },
  {
   "cell_type": "code",
   "execution_count": 159,
   "metadata": {},
   "outputs": [],
   "source": [
    "#prepare for training to predict the price\n",
    "\n",
    "originalTrainingValues = trainingData.rent.values\n",
    "originalTestingValues = testData.rent.values\n",
    "originalValidationValues = validationData.rent.values\n",
    "\n",
    "\n",
    "yTrain = np.log1p(trainingData.rent.values)\n",
    "yTest = np.log1p(testData.rent.values)\n",
    "yValidate = np.log1p(validationData.rent.values)\n",
    "\n",
    "#drop columns we want to predit\n",
    "\n",
    "del trainingData['rent']\n",
    "del testData['rent']\n",
    "del validationData['rent']\n",
    "\n",
    "\n",
    "\n",
    "#log of those values\n"
   ]
  },
  {
   "cell_type": "code",
   "execution_count": 160,
   "metadata": {},
   "outputs": [],
   "source": [
    "#Get the linear regression formular\n",
    "def linearRegressionWithRegularizationParameter(featureMatrix, predictedValues, r=0.0):\n",
    " #calculate and add the bias term\n",
    " ones =  np.ones(featureMatrix.shape[0])\n",
    " featureMatrix = np.column_stack([ones, featureMatrix])\n",
    " \n",
    " #calculate weight and bias terms   \n",
    " matrixDotTranpose = featureMatrix.T.dot(featureMatrix)\n",
    " regularisationParameter = r * np.eye(matrixDotTranpose.shape[0])\n",
    " matrixDotTranpose = matrixDotTranpose + regularisationParameter\n",
    " inverseOfMatrixDotTranspose = np.linalg.inv(matrixDotTranpose)\n",
    " weights  = inverseOfMatrixDotTranspose.dot(featureMatrix.T).dot(predictedValues)\n",
    " \n",
    " return weights[0], weights[1:]\n",
    "    "
   ]
  },
  {
   "cell_type": "code",
   "execution_count": 161,
   "metadata": {},
   "outputs": [
    {
     "data": {
      "text/plain": [
       "posted_on            object\n",
       "bhk                   int64\n",
       "size                  int64\n",
       "floor                object\n",
       "area_type            object\n",
       "area_locality        object\n",
       "city                 object\n",
       "furnishing_status    object\n",
       "tenant_preferred     object\n",
       "bathroom              int64\n",
       "point_of_contact     object\n",
       "dtype: object"
      ]
     },
     "execution_count": 161,
     "metadata": {},
     "output_type": "execute_result"
    }
   ],
   "source": [
    "#baseline model is to use all the numerical columns\n",
    "\n",
    "trainingData.dtypes"
   ]
  },
  {
   "cell_type": "code",
   "execution_count": 162,
   "metadata": {},
   "outputs": [],
   "source": [
    "base = ['bhk','size','bathroom']"
   ]
  },
  {
   "cell_type": "code",
   "execution_count": 163,
   "metadata": {},
   "outputs": [],
   "source": [
    "def prepareFeatureMatrix(featureMatrix):\n",
    "    #remove 0's and nulls\n",
    "    numberBasedFeatures = featureMatrix[base]\n",
    "    featureMatrix  = numberBasedFeatures.fillna(0)\n",
    "    preparedFeatureMatrix = featureMatrix.values\n",
    "    \n",
    "    return preparedFeatureMatrix"
   ]
  },
  {
   "cell_type": "code",
   "execution_count": 164,
   "metadata": {},
   "outputs": [
    {
     "data": {
      "text/plain": [
       "(np.float64(8.37807140381755),\n",
       " array([1.26206568e-01, 1.44408350e-04, 5.59442694e-01]))"
      ]
     },
     "execution_count": 164,
     "metadata": {},
     "output_type": "execute_result"
    }
   ],
   "source": [
    "preparedTrainingData = prepareFeatureMatrix(trainingData)\n",
    "weight, bias = linearRegressionWithRegularizationParameter(preparedTrainingData,yTrain)\n",
    "weight, bias\n",
    "# bias"
   ]
  },
  {
   "cell_type": "code",
   "execution_count": 165,
   "metadata": {},
   "outputs": [
    {
     "data": {
      "text/plain": [
       "array([ 9.88410292,  9.069497  ,  9.86345252, ...,  9.90821911,\n",
       "       10.03543654,  9.33433558])"
      ]
     },
     "execution_count": 165,
     "metadata": {},
     "output_type": "execute_result"
    }
   ],
   "source": [
    "yPrediction = weight + preparedTrainingData.dot(bias)\n",
    "yPrediction"
   ]
  },
  {
   "cell_type": "code",
   "execution_count": 166,
   "metadata": {},
   "outputs": [
    {
     "data": {
      "image/png": "[encoded data removed]",
      "text/plain": [
       "<Figure size 600x400 with 1 Axes>"
      ]
     },
     "metadata": {},
     "output_type": "display_data"
    }
   ],
   "source": [
    "plt.figure(figsize=(6, 4))\n",
    "\n",
    "sns.histplot(yTrain, label='target', color='#222222', alpha=0.6, bins=40)\n",
    "sns.histplot(yPrediction, label='prediction', color='#aaaaaa', alpha=0.8, bins=40)\n",
    "\n",
    "\n",
    "plt.legend()\n",
    "\n",
    "plt.ylabel('Frequency')\n",
    "plt.xlabel('Log(Price + 1)')\n",
    "plt.title('Predictions vs actual distribution')\n",
    "\n",
    "plt.show()"
   ]
  },
  {
   "cell_type": "code",
   "execution_count": 167,
   "metadata": {},
   "outputs": [],
   "source": [
    "def rmse(y, y_pred):\n",
    "    error = y_pred -y\n",
    "    mse = (error ** 2).mean()\n",
    "    return np.sqrt(mse)"
   ]
  },
  {
   "cell_type": "code",
   "execution_count": 168,
   "metadata": {},
   "outputs": [
    {
     "data": {
      "text/plain": [
       "np.float64(0.6678727949111832)"
      ]
     },
     "execution_count": 168,
     "metadata": {},
     "output_type": "execute_result"
    }
   ],
   "source": [
    "rmse(yTrain,yPrediction)"
   ]
  },
  {
   "cell_type": "code",
   "execution_count": 169,
   "metadata": {},
   "outputs": [],
   "source": [
    "X_val = prepareFeatureMatrix(validationData)\n",
    "yPrediction = weight + X_val.dot(bias)"
   ]
  },
  {
   "cell_type": "code",
   "execution_count": 170,
   "metadata": {},
   "outputs": [
    {
     "data": {
      "text/plain": [
       "np.float64(0.6825747192528785)"
      ]
     },
     "execution_count": 170,
     "metadata": {},
     "output_type": "execute_result"
    }
   ],
   "source": [
    "rmse(yValidate,yPrediction)"
   ]
  },
  {
   "cell_type": "code",
   "execution_count": 171,
   "metadata": {},
   "outputs": [],
   "source": [
    "#Feature engineering. lowering rmse\n",
    "#we can see the duration with the date, \n",
    "\n",
    "\n",
    "\n",
    "    # features = base.copy()\n",
    "    # currentYear = date.today()\n",
    "    # mothnsOnDisplay = dateDifference.years * 12 + dateDifference.months\n",
    "    # dataFrame['months_on_display'] = mothnsOnDisplay\n",
    "    # features = features.append('months_on_display')\n",
    "    \n",
    "    # numberBasedFeatures = dataFrame[features]\n",
    "    # dataFrame  = numberBasedFeatures.fillna(0)\n",
    "    \n",
    "    # preparedFeatureMatrix = dataFrame.values\n",
    "    # return preparedFeatureMatrix\n",
    "\n",
    "\n",
    "def prepareFeatureMatrix(dataFrame):\n",
    "    #remove 0's and nulls\n",
    "    \n",
    "    dataFrame = dataFrame.copy()\n",
    "    dataFrame = dataFrame.reset_index(drop=True)\n",
    "    numberBasedFeatures = base.copy()\n",
    "    numberBasedFeatures.append('months_on_display')\n",
    "    # numberBasedFeatures = dataFrame[base]\n",
    "    # dataFrame  = numberBasedFeatures.fillna(0)\n",
    "    dataFrame['months_on_display'] = {}\n",
    "    \n",
    "    \n",
    "    # check if the age makes an effect on the rmse\n",
    "    #add age of rent item\n",
    "    for index in range(len(dataFrame)):\n",
    "        dateDifference= relativedelta(date.today(), datetime.strptime(dataFrame.loc[index, 'posted_on'], \"%Y-%m-%d\"))\n",
    "        monthsOnDisplay = dateDifference.years * 12 + dateDifference.months\n",
    "        dataFrame.loc[index, 'months_on_display'] =  monthsOnDisplay\n",
    "    \n",
    "    \n",
    "    dataFrame['months_on_display'] = dataFrame['months_on_display'].fillna(date.today())\n",
    "    dataFrame = dataFrame[numberBasedFeatures]\n",
    "    preparedFeatureMatrix = dataFrame.values\n",
    "    \n",
    "    return preparedFeatureMatrix\n",
    "    \n",
    "\n"
   ]
  },
  {
   "cell_type": "code",
   "execution_count": 172,
   "metadata": {},
   "outputs": [],
   "source": [
    "# dataFrame = pd.DataFrame({\n",
    "#     'A': [1, 2, 3],\n",
    "#     'B': [4, 5, 6],\n",
    "#     'C': [7, 8, 9],\n",
    "#     'D': [8, 9, None]\n",
    "# })\n",
    "\n",
    "# dataFrame['E'] = {}\n",
    "\n",
    "# for index in range(len(dataFrame)):\n",
    "#     dataFrame.loc[index, 'E'] = date.today()\n",
    "# dataFrame['D'] = dataFrame['D'].fillna(date.today())\n",
    "\n",
    "# dataFrame\n"
   ]
  },
  {
   "cell_type": "code",
   "execution_count": 173,
   "metadata": {},
   "outputs": [
    {
     "name": "stderr",
     "output_type": "stream",
     "text": [
      "/tmp/ipykernel_55409/3055231650.py:39: FutureWarning: Downcasting object dtype arrays on .fillna, .ffill, .bfill is deprecated and will change in a future version. Call result.infer_objects(copy=False) instead. To opt-in to the future behavior, set `pd.set_option('future.no_silent_downcasting', True)`\n",
      "  dataFrame['months_on_display'] = dataFrame['months_on_display'].fillna(date.today())\n"
     ]
    },
    {
     "name": "stdout",
     "output_type": "stream",
     "text": [
      "This is the rmse for training data 0.6630904476863906\n",
      "This is the validation for validation data 0.6676277285799693\n"
     ]
    },
    {
     "name": "stderr",
     "output_type": "stream",
     "text": [
      "/tmp/ipykernel_55409/3055231650.py:39: FutureWarning: Downcasting object dtype arrays on .fillna, .ffill, .bfill is deprecated and will change in a future version. Call result.infer_objects(copy=False) instead. To opt-in to the future behavior, set `pd.set_option('future.no_silent_downcasting', True)`\n",
      "  dataFrame['months_on_display'] = dataFrame['months_on_display'].fillna(date.today())\n"
     ]
    }
   ],
   "source": [
    "X_train = prepareFeatureMatrix(trainingData)\n",
    "weight, bias = linearRegressionWithRegularizationParameter(X_train,yTrain)\n",
    "\n",
    "# weight, bias\n",
    "\n",
    "yPrediction = weight + X_train.dot(bias)\n",
    "yPrediction\n",
    "\n",
    "\n",
    "print(\"This is the rmse for training data\", rmse(yTrain,yPrediction))\n",
    "\n",
    "\n",
    "X_validate = prepareFeatureMatrix(validationData)\n",
    "weight, bias = linearRegressionWithRegularizationParameter(X_validate,yValidate)\n",
    "\n",
    "# weight, bias\n",
    "\n",
    "yPrediction = weight + X_validate.dot(bias)\n",
    "yPrediction\n",
    "\n",
    "print(\"This is the validation for validation data\", rmse(yValidate,yPrediction))\n",
    "\n"
   ]
  },
  {
   "cell_type": "code",
   "execution_count": 174,
   "metadata": {},
   "outputs": [
    {
     "data": {
      "image/png": "[encoded data removed]",
      "text/plain": [
       "<Figure size 600x400 with 1 Axes>"
      ]
     },
     "metadata": {},
     "output_type": "display_data"
    }
   ],
   "source": [
    "\n",
    "plt.figure(figsize=(6, 4))\n",
    "\n",
    "sns.histplot(yValidate, label='target', color='#222222', alpha=0.6, bins=40)\n",
    "sns.histplot(yPrediction, label='prediction', color='#aaaaaa', alpha=0.8, bins=40)\n",
    "\n",
    "\n",
    "plt.legend()\n",
    "\n",
    "plt.ylabel('Frequency')\n",
    "plt.xlabel('Log(Price + 1)')\n",
    "plt.title('Predictions vs actual distribution')\n",
    "\n",
    "plt.show()"
   ]
  },
  {
   "cell_type": "code",
   "execution_count": 175,
   "metadata": {},
   "outputs": [],
   "source": [
    "# df['floor'].unique()\n",
    "# dataFrame['floor'].value_counts()\n",
    "# dataFrame['number_of_floors'] = {}\n",
    "# dataFrame['apartment_floor_number'] = {}\n",
    "\n",
    "# splitFloorDetails = dataFrame['floor'].str.replace(' out of ', ' ')\n",
    "# dataFrame[['apartment_floor_number', 'number_of_floors']] = splitFloorDetails.str.rsplit(' ', n=1, expand=True)\n",
    "# dataFrame['apartment_floor_number'] = dataFrame['apartment_floor_number'].replace({'Ground': '0', 'Upper Basement': '0','Lower Basement':'0'})\n",
    "\n",
    "\n",
    "# df['apartment_floor_number'].value_counts()\n",
    "# Filter out rows where the entire value can be converted to numeric\n",
    "# df['Non_Numeric'] = pd.to_numeric(df['apartment_floor_number'], errors='coerce').isna()\n",
    "# non_numeric_df = df[df['Non_Numeric']]\n",
    "\n",
    "# non_numeric_df[['apartment_floor_number']].value_counts()\n",
    "\n",
    "\n",
    "\n",
    "# for index in range(len(df['floor'])):\n",
    "#     floorDetails  = df.loc[index, 'floor'].split()\n",
    "#     if(len(floorDetails)) == 0:\n",
    "#         numberOfFloors = 0\n",
    "#         apartmentFloorNumber = 0\n",
    "#     else:\n",
    "#         numberOfFloors = floorDetails[0]\n",
    "#         apartmentFloorNumber = floorDetails[-1]\n",
    "#         df.loc[index, 'number_of_floors'] =  numberOfFloors\n",
    "#         df.loc[index, 'apartment_floor_number'] =  apartmentFloorNumber\n",
    "        \n",
    "# df = pd.DataFrame(array)\n",
    "\n",
    "# Save the DataFrame to a CSV file\n",
    "# df['apartment_floor_number'] = df['apartment_floor_number'].replace('Ground','1')\n",
    "# dataFrame.to_csv('floors_output.csv', index=False)"
   ]
  },
  {
   "cell_type": "code",
   "execution_count": 176,
   "metadata": {},
   "outputs": [],
   "source": [
    "\n",
    "def prepareFeatureMatrix(dataFrame):\n",
    "    #remove 0's and nulls\n",
    "    \n",
    "    dataFrame = dataFrame.copy()\n",
    "    dataFrame = dataFrame.reset_index(drop=True)\n",
    "    numberBasedFeatures = base.copy()\n",
    "    numberBasedFeatures.append('months_on_display')\n",
    "    numberBasedFeatures.append('number_of_floors')\n",
    "    numberBasedFeatures.append('apartment_floor_number')\n",
    "    # numberBasedFeatures = dataFrame[base]\n",
    "    # dataFrame  = numberBasedFeatures.fillna(0)\n",
    "    dataFrame['months_on_display'] = {}\n",
    "    dataFrame['number_of_floors'] = {}\n",
    "    dataFrame['apartment_floor_number'] = {}\n",
    "    \n",
    "    \n",
    "    # check if the age makes an effect on the rmse\n",
    "    #add age of rent item\n",
    "    for index in range(len(dataFrame)):\n",
    "        dateDifference= relativedelta(date.today(), datetime.strptime(dataFrame.loc[index, 'posted_on'], \"%Y-%m-%d\"))\n",
    "        monthsOnDisplay = dateDifference.years * 12 + dateDifference.months\n",
    "        dataFrame.loc[index, 'months_on_display'] =  monthsOnDisplay\n",
    "    \n",
    "    \n",
    "    dataFrame['months_on_display'] = dataFrame['months_on_display'].fillna(date.today())\n",
    "    \n",
    "    #separate the floor level of the into sepearate columns to be added as the feature matrix\n",
    "    splitFloorDetails = dataFrame['floor'].str.replace(' out of ', ' ')\n",
    "    dataFrame[['apartment_floor_number', 'number_of_floors']] = splitFloorDetails.str.rsplit(' ', n=1, expand=True)\n",
    "    #todo improve the line below to handle the floor number much better\n",
    "    dataFrame['apartment_floor_number'] = dataFrame['apartment_floor_number'].replace({'Ground': '0', 'Upper Basement': '0','Lower Basement':'0'})\n",
    "   \n",
    "   \n",
    "    #convert the newly created columns to an integer\n",
    "    dataFrame['number_of_floors'] = dataFrame['number_of_floors'].fillna(0)\n",
    "    dataFrame['apartment_floor_number'] = dataFrame['apartment_floor_number'].fillna(0)\n",
    "    dataFrame['apartment_floor_number']  = dataFrame['apartment_floor_number'].astype(int)\n",
    "    dataFrame['number_of_floors']  = dataFrame['number_of_floors'].astype(int)\n",
    "    \n",
    "    dataFrame = dataFrame[numberBasedFeatures]\n",
    "    preparedFeatureMatrix = dataFrame.values\n",
    "    \n",
    "    return preparedFeatureMatrix\n",
    "    \n",
    "\n"
   ]
  },
  {
   "cell_type": "code",
   "execution_count": 177,
   "metadata": {},
   "outputs": [],
   "source": [
    "\n",
    "dataFrame.to_csv('floors_output.csv', index=False)"
   ]
  },
  {
   "cell_type": "code",
   "execution_count": 178,
   "metadata": {},
   "outputs": [
    {
     "name": "stderr",
     "output_type": "stream",
     "text": [
      "/tmp/ipykernel_55409/3948849523.py:25: FutureWarning: Downcasting object dtype arrays on .fillna, .ffill, .bfill is deprecated and will change in a future version. Call result.infer_objects(copy=False) instead. To opt-in to the future behavior, set `pd.set_option('future.no_silent_downcasting', True)`\n",
      "  dataFrame['months_on_display'] = dataFrame['months_on_display'].fillna(date.today())\n"
     ]
    },
    {
     "name": "stdout",
     "output_type": "stream",
     "text": [
      "This is the rmse for training data 0.5809085444908201\n",
      "This is the validation for validation data 0.5947789138915416\n"
     ]
    },
    {
     "name": "stderr",
     "output_type": "stream",
     "text": [
      "/tmp/ipykernel_55409/3948849523.py:25: FutureWarning: Downcasting object dtype arrays on .fillna, .ffill, .bfill is deprecated and will change in a future version. Call result.infer_objects(copy=False) instead. To opt-in to the future behavior, set `pd.set_option('future.no_silent_downcasting', True)`\n",
      "  dataFrame['months_on_display'] = dataFrame['months_on_display'].fillna(date.today())\n"
     ]
    }
   ],
   "source": [
    "\n",
    "X_train = prepareFeatureMatrix(trainingData)\n",
    "weight, bias = linearRegressionWithRegularizationParameter(X_train,yTrain)\n",
    "\n",
    "# weight, bias\n",
    "\n",
    "yPrediction = weight + X_train.dot(bias)\n",
    "yPrediction\n",
    "\n",
    "\n",
    "print(\"This is the rmse for training data\", rmse(yTrain,yPrediction))\n",
    "\n",
    "\n",
    "X_validate = prepareFeatureMatrix(validationData)\n",
    "weight, bias = linearRegressionWithRegularizationParameter(X_validate,yValidate)\n",
    "\n",
    "# weight, bias\n",
    "\n",
    "yPrediction = weight + X_validate.dot(bias)\n",
    "yPrediction\n",
    "\n",
    "print(\"This is the validation for validation data\", rmse(yValidate,yPrediction))"
   ]
  },
  {
   "cell_type": "code",
   "execution_count": 179,
   "metadata": {},
   "outputs": [
    {
     "data": {
      "image/png": "[encoded data removed]",
      "text/plain": [
       "<Figure size 600x400 with 1 Axes>"
      ]
     },
     "metadata": {},
     "output_type": "display_data"
    }
   ],
   "source": [
    "\n",
    "plt.figure(figsize=(6, 4))\n",
    "\n",
    "sns.histplot(yValidate, label='target', color='#222222', alpha=0.6, bins=40)\n",
    "sns.histplot(yPrediction, label='prediction', color='#aaaaaa', alpha=0.8, bins=40)\n",
    "\n",
    "\n",
    "plt.legend()\n",
    "\n",
    "plt.ylabel('Frequency')\n",
    "plt.xlabel('Log(Price + 1)')\n",
    "plt.title('Predictions vs actual distribution')\n",
    "\n",
    "plt.show()"
   ]
  },
  {
   "cell_type": "code",
   "execution_count": 180,
   "metadata": {},
   "outputs": [
    {
     "data": {
      "text/plain": [
       "array(['Super Area', 'Carpet Area', 'Built Area'], dtype=object)"
      ]
     },
     "execution_count": 180,
     "metadata": {},
     "output_type": "execute_result"
    }
   ],
   "source": [
    "dataFrame['area_type'].unique()"
   ]
  },
  {
   "cell_type": "code",
   "execution_count": 181,
   "metadata": {},
   "outputs": [],
   "source": [
    "\n",
    "def prepareFeatureMatrix(dataFrame):\n",
    "    dataFrame = dataFrame.copy()\n",
    "    dataFrame = dataFrame.reset_index(drop=True)\n",
    "    numberBasedFeatures = base.copy()\n",
    "    numberBasedFeatures.append('number_of_floors')\n",
    "    numberBasedFeatures = base.copy()\n",
    "    numberBasedFeatures.append('months_on_display')\n",
    "    numberBasedFeatures.append('apartment_floor_number')\n",
    "    numberBasedFeatures.append('super_area')\n",
    "    numberBasedFeatures.append('carpet_area')\n",
    "    numberBasedFeatures.append('built_area')\n",
    "\n",
    "    # numberBasedFeatures = dataFrame[base]\n",
    "        # dataFrame  = numberBasedFeatures.fillna(0)\n",
    "    dataFrame['months_on_display'] = {}\n",
    "    dataFrame['number_of_floors'] = {}\n",
    "    dataFrame['apartment_floor_number'] = {}\n",
    "\n",
    "\n",
    "    #feature engineer for area\n",
    "    dataFrame['super_area'] = {}\n",
    "    dataFrame['carpet_area'] = {}\n",
    "    dataFrame['built_area'] = {}\n",
    "        \n",
    "        \n",
    "    for index in range(len(dataFrame)):\n",
    "        # check if the age makes an effect on the rmse\n",
    "        #add age of rent item\n",
    "        dateDifference= relativedelta(date.today(), datetime.strptime(dataFrame.loc[index, 'posted_on'], \"%Y-%m-%d\"))\n",
    "        monthsOnDisplay = dateDifference.years * 12 + dateDifference.months\n",
    "        dataFrame.loc[index, 'months_on_display'] =  monthsOnDisplay\n",
    "        \n",
    "        \n",
    "\n",
    "        \n",
    "    dataFrame['months_on_display'] = dataFrame['months_on_display'].fillna(date.today())\n",
    "\n",
    "\n",
    "\n",
    "        #separate the floor level of the into sepearate columns to be added as the feature matrix\n",
    "    splitFloorDetails = dataFrame['floor'].str.replace(' out of ', ' ')\n",
    "    dataFrame[['apartment_floor_number', 'number_of_floors']] = splitFloorDetails.str.rsplit(' ', n=1, expand=True)\n",
    "        #todo improve the line below to handle the floor number much better\n",
    "    dataFrame['apartment_floor_number'] = dataFrame['apartment_floor_number'].replace({'Ground': '0', 'Upper Basement': '0','Lower Basement':'0'})\n",
    "    \n",
    "    dataFrame['number_of_floors'].to_csv('floors_output.csv', index=False)\n",
    "    \n",
    "        #convert the newly created columns to an integer\n",
    "    dataFrame['number_of_floors'] = dataFrame['number_of_floors'].fillna(0)\n",
    "    dataFrame['apartment_floor_number'] = dataFrame['apartment_floor_number'].fillna(0)\n",
    "    dataFrame['apartment_floor_number']  = dataFrame['apartment_floor_number'].astype(int)\n",
    "    dataFrame['number_of_floors']  = dataFrame['number_of_floors'].astype(int)\n",
    "\n",
    "        #check feature engineering for areas\n",
    "    dataFrame.loc[dataFrame['area_type'] == \"Super Area\", 'super_area'] = 1\n",
    "    dataFrame.loc[dataFrame['area_type'] == \"Carpet Area\", 'carpet_area'] = 1\n",
    "    dataFrame.loc[dataFrame['area_type'] == \"Built Area\", 'built_area'] = 1\n",
    "\n",
    "    dataFrame['super_area'] = dataFrame['super_area'].fillna(0)\n",
    "    dataFrame['carpet_area'] = dataFrame['carpet_area'].fillna(0)\n",
    "    dataFrame['built_area'] = dataFrame['built_area'].fillna(0)\n",
    "\n",
    "    \n",
    "    dataFrame = dataFrame[numberBasedFeatures]\n",
    "    preparedFeatureMatrix = dataFrame.values\n",
    "    \n",
    "    return preparedFeatureMatrix\n",
    "    "
   ]
  },
  {
   "cell_type": "code",
   "execution_count": 182,
   "metadata": {},
   "outputs": [
    {
     "name": "stderr",
     "output_type": "stream",
     "text": [
      "/tmp/ipykernel_55409/1148178809.py:36: FutureWarning: Downcasting object dtype arrays on .fillna, .ffill, .bfill is deprecated and will change in a future version. Call result.infer_objects(copy=False) instead. To opt-in to the future behavior, set `pd.set_option('future.no_silent_downcasting', True)`\n",
      "  dataFrame['months_on_display'] = dataFrame['months_on_display'].fillna(date.today())\n",
      "/tmp/ipykernel_55409/1148178809.py:59: FutureWarning: Downcasting object dtype arrays on .fillna, .ffill, .bfill is deprecated and will change in a future version. Call result.infer_objects(copy=False) instead. To opt-in to the future behavior, set `pd.set_option('future.no_silent_downcasting', True)`\n",
      "  dataFrame['super_area'] = dataFrame['super_area'].fillna(0)\n",
      "/tmp/ipykernel_55409/1148178809.py:60: FutureWarning: Downcasting object dtype arrays on .fillna, .ffill, .bfill is deprecated and will change in a future version. Call result.infer_objects(copy=False) instead. To opt-in to the future behavior, set `pd.set_option('future.no_silent_downcasting', True)`\n",
      "  dataFrame['carpet_area'] = dataFrame['carpet_area'].fillna(0)\n",
      "/tmp/ipykernel_55409/1148178809.py:61: FutureWarning: Downcasting object dtype arrays on .fillna, .ffill, .bfill is deprecated and will change in a future version. Call result.infer_objects(copy=False) instead. To opt-in to the future behavior, set `pd.set_option('future.no_silent_downcasting', True)`\n",
      "  dataFrame['built_area'] = dataFrame['built_area'].fillna(0)\n"
     ]
    },
    {
     "name": "stdout",
     "output_type": "stream",
     "text": [
      "This is the rmse for training data after including the area type 0.573970554187543\n",
      "This is the validation for validation data after including the area type 0.5764198326001514\n"
     ]
    },
    {
     "name": "stderr",
     "output_type": "stream",
     "text": [
      "/tmp/ipykernel_55409/1148178809.py:36: FutureWarning: Downcasting object dtype arrays on .fillna, .ffill, .bfill is deprecated and will change in a future version. Call result.infer_objects(copy=False) instead. To opt-in to the future behavior, set `pd.set_option('future.no_silent_downcasting', True)`\n",
      "  dataFrame['months_on_display'] = dataFrame['months_on_display'].fillna(date.today())\n",
      "/tmp/ipykernel_55409/1148178809.py:59: FutureWarning: Downcasting object dtype arrays on .fillna, .ffill, .bfill is deprecated and will change in a future version. Call result.infer_objects(copy=False) instead. To opt-in to the future behavior, set `pd.set_option('future.no_silent_downcasting', True)`\n",
      "  dataFrame['super_area'] = dataFrame['super_area'].fillna(0)\n",
      "/tmp/ipykernel_55409/1148178809.py:60: FutureWarning: Downcasting object dtype arrays on .fillna, .ffill, .bfill is deprecated and will change in a future version. Call result.infer_objects(copy=False) instead. To opt-in to the future behavior, set `pd.set_option('future.no_silent_downcasting', True)`\n",
      "  dataFrame['carpet_area'] = dataFrame['carpet_area'].fillna(0)\n",
      "/tmp/ipykernel_55409/1148178809.py:61: FutureWarning: Downcasting object dtype arrays on .fillna, .ffill, .bfill is deprecated and will change in a future version. Call result.infer_objects(copy=False) instead. To opt-in to the future behavior, set `pd.set_option('future.no_silent_downcasting', True)`\n",
      "  dataFrame['built_area'] = dataFrame['built_area'].fillna(0)\n"
     ]
    }
   ],
   "source": [
    "\n",
    "X_train = prepareFeatureMatrix(trainingData)\n",
    "weight, bias = linearRegressionWithRegularizationParameter(X_train,yTrain,.01)\n",
    "\n",
    "# weight, bias\n",
    "\n",
    "yPrediction = weight + X_train.dot(bias)\n",
    "yPrediction\n",
    "\n",
    "\n",
    "print(\"This is the rmse for training data after including the area type\", rmse(yTrain,yPrediction))\n",
    "\n",
    "\n",
    "X_validate = prepareFeatureMatrix(validationData)\n",
    "weight, bias = linearRegressionWithRegularizationParameter(X_validate,yValidate,.01)\n",
    "\n",
    "# weight, bias\n",
    "\n",
    "yPrediction = weight + X_validate.dot(bias)\n",
    "yPrediction\n",
    "\n",
    "print(\"This is the validation for validation data after including the area type\", rmse(yValidate,yPrediction))\n"
   ]
  },
  {
   "cell_type": "code",
   "execution_count": 116,
   "metadata": {},
   "outputs": [
    {
     "data": {
      "image/png": "[encoded data removed]",
      "text/plain": [
       "<Figure size 600x400 with 1 Axes>"
      ]
     },
     "metadata": {},
     "output_type": "display_data"
    }
   ],
   "source": [
    "\n",
    "plt.figure(figsize=(6, 4))\n",
    "\n",
    "sns.histplot(yValidate, label='target', color='#222222', alpha=0.6, bins=40)\n",
    "sns.histplot(yPrediction, label='prediction', color='#aaaaaa', alpha=0.8, bins=40)\n",
    "\n",
    "\n",
    "plt.legend()\n",
    "\n",
    "plt.ylabel('Frequency')\n",
    "plt.xlabel('Log(Price + 1)')\n",
    "plt.title('Predictions vs actual distribution')\n",
    "\n",
    "plt.show()"
   ]
  },
  {
   "cell_type": "code",
   "execution_count": 129,
   "metadata": {},
   "outputs": [
    {
     "name": "stderr",
     "output_type": "stream",
     "text": [
      "/tmp/ipykernel_55409/1148178809.py:36: FutureWarning: Downcasting object dtype arrays on .fillna, .ffill, .bfill is deprecated and will change in a future version. Call result.infer_objects(copy=False) instead. To opt-in to the future behavior, set `pd.set_option('future.no_silent_downcasting', True)`\n",
      "  dataFrame['months_on_display'] = dataFrame['months_on_display'].fillna(date.today())\n",
      "/tmp/ipykernel_55409/1148178809.py:59: FutureWarning: Downcasting object dtype arrays on .fillna, .ffill, .bfill is deprecated and will change in a future version. Call result.infer_objects(copy=False) instead. To opt-in to the future behavior, set `pd.set_option('future.no_silent_downcasting', True)`\n",
      "  dataFrame['super_area'] = dataFrame['super_area'].fillna(0)\n",
      "/tmp/ipykernel_55409/1148178809.py:60: FutureWarning: Downcasting object dtype arrays on .fillna, .ffill, .bfill is deprecated and will change in a future version. Call result.infer_objects(copy=False) instead. To opt-in to the future behavior, set `pd.set_option('future.no_silent_downcasting', True)`\n",
      "  dataFrame['carpet_area'] = dataFrame['carpet_area'].fillna(0)\n",
      "/tmp/ipykernel_55409/1148178809.py:61: FutureWarning: Downcasting object dtype arrays on .fillna, .ffill, .bfill is deprecated and will change in a future version. Call result.infer_objects(copy=False) instead. To opt-in to the future behavior, set `pd.set_option('future.no_silent_downcasting', True)`\n",
      "  dataFrame['built_area'] = dataFrame['built_area'].fillna(0)\n"
     ]
    },
    {
     "name": "stdout",
     "output_type": "stream",
     "text": [
      "This is the rmse for training data after including the area type 402.1475209431361\n",
      "This is the r value  0\n",
      "This is the rmse for training data after including the area type 0.5739697331928247\n",
      "This is the r value  0.001\n",
      "This is the rmse for training data after including the area type 0.573970554187543\n",
      "This is the r value  0.01\n",
      "This is the rmse for training data after including the area type 0.574045296353102\n",
      "This is the r value  0.1\n",
      "This is the rmse for training data after including the area type 0.5777827266986044\n",
      "This is the r value  1\n",
      "This is the rmse for training data after including the area type 0.6053872071231101\n",
      "This is the r value  10\n",
      "This is the validation for validation data after including the area type 17.668827851705647\n",
      "This is the r value  0\n",
      "This is the validation for validation data after including the area type 0.5764104984860746\n",
      "This is the r value  0.001\n",
      "This is the validation for validation data after including the area type 0.5764198326001514\n",
      "This is the r value  0.01\n",
      "This is the validation for validation data after including the area type 0.5771759915210037\n",
      "This is the r value  0.1\n",
      "This is the validation for validation data after including the area type 0.595854427914733\n",
      "This is the r value  1\n",
      "This is the validation for validation data after including the area type 0.6331190533588726\n",
      "This is the r value  10\n"
     ]
    },
    {
     "name": "stderr",
     "output_type": "stream",
     "text": [
      "/tmp/ipykernel_55409/1148178809.py:36: FutureWarning: Downcasting object dtype arrays on .fillna, .ffill, .bfill is deprecated and will change in a future version. Call result.infer_objects(copy=False) instead. To opt-in to the future behavior, set `pd.set_option('future.no_silent_downcasting', True)`\n",
      "  dataFrame['months_on_display'] = dataFrame['months_on_display'].fillna(date.today())\n",
      "/tmp/ipykernel_55409/1148178809.py:59: FutureWarning: Downcasting object dtype arrays on .fillna, .ffill, .bfill is deprecated and will change in a future version. Call result.infer_objects(copy=False) instead. To opt-in to the future behavior, set `pd.set_option('future.no_silent_downcasting', True)`\n",
      "  dataFrame['super_area'] = dataFrame['super_area'].fillna(0)\n",
      "/tmp/ipykernel_55409/1148178809.py:60: FutureWarning: Downcasting object dtype arrays on .fillna, .ffill, .bfill is deprecated and will change in a future version. Call result.infer_objects(copy=False) instead. To opt-in to the future behavior, set `pd.set_option('future.no_silent_downcasting', True)`\n",
      "  dataFrame['carpet_area'] = dataFrame['carpet_area'].fillna(0)\n",
      "/tmp/ipykernel_55409/1148178809.py:61: FutureWarning: Downcasting object dtype arrays on .fillna, .ffill, .bfill is deprecated and will change in a future version. Call result.infer_objects(copy=False) instead. To opt-in to the future behavior, set `pd.set_option('future.no_silent_downcasting', True)`\n",
      "  dataFrame['built_area'] = dataFrame['built_area'].fillna(0)\n"
     ]
    }
   ],
   "source": [
    "X_train = prepareFeatureMatrix(trainingData)\n",
    "for r in [0, 0.001, 0.01, 0.1, 1, 10]:\n",
    "    weight, bias = linearRegressionWithRegularizationParameter(X_train,yTrain,r)\n",
    "    yPrediction = weight + X_train.dot(bias)\n",
    "    print(\"This is the rmse for training data after including the area type\", rmse(yTrain,yPrediction))\n",
    "    print(\"This is the r value \", r)\n",
    "\n",
    "\n",
    "X_validate = prepareFeatureMatrix(validationData)\n",
    "for r in [0, 0.001, 0.01, 0.1, 1, 10]:\n",
    "    weight, bias = linearRegressionWithRegularizationParameter(X_validate,yValidate,r)\n",
    "    yPrediction = weight + X_validate.dot(bias)\n",
    "    print(\"This is the validation for validation data after including the area type\", rmse(yValidate,yPrediction))\n",
    "    print(\"This is the r value \", r)\n",
    "\n"
   ]
  },
  {
   "cell_type": "code",
   "execution_count": 135,
   "metadata": {},
   "outputs": [
    {
     "data": {
      "text/html": [
       "<div>\n",
       "<style scoped>\n",
       "    .dataframe tbody tr th:only-of-type {\n",
       "        vertical-align: middle;\n",
       "    }\n",
       "\n",
       "    .dataframe tbody tr th {\n",
       "        vertical-align: top;\n",
       "    }\n",
       "\n",
       "    .dataframe thead th {\n",
       "        text-align: right;\n",
       "    }\n",
       "</style>\n",
       "<table border=\"1\" class=\"dataframe\">\n",
       "  <thead>\n",
       "    <tr style=\"text-align: right;\">\n",
       "      <th></th>\n",
       "      <th>posted_on</th>\n",
       "      <th>bhk</th>\n",
       "      <th>size</th>\n",
       "      <th>floor</th>\n",
       "      <th>area_type</th>\n",
       "      <th>area_locality</th>\n",
       "      <th>city</th>\n",
       "      <th>furnishing_status</th>\n",
       "      <th>tenant_preferred</th>\n",
       "      <th>bathroom</th>\n",
       "      <th>point_of_contact</th>\n",
       "    </tr>\n",
       "  </thead>\n",
       "  <tbody>\n",
       "    <tr>\n",
       "      <th>0</th>\n",
       "      <td>2022-06-30</td>\n",
       "      <td>2</td>\n",
       "      <td>933</td>\n",
       "      <td>2 out of 5</td>\n",
       "      <td>Super Area</td>\n",
       "      <td>Kompally</td>\n",
       "      <td>Hyderabad</td>\n",
       "      <td>Unfurnished</td>\n",
       "      <td>Bachelors</td>\n",
       "      <td>2</td>\n",
       "      <td>Contact Owner</td>\n",
       "    </tr>\n",
       "    <tr>\n",
       "      <th>1</th>\n",
       "      <td>2022-06-30</td>\n",
       "      <td>1</td>\n",
       "      <td>40</td>\n",
       "      <td>3 out of 3</td>\n",
       "      <td>Carpet Area</td>\n",
       "      <td>Shalimar bagh</td>\n",
       "      <td>Delhi</td>\n",
       "      <td>Furnished</td>\n",
       "      <td>Bachelors/Family</td>\n",
       "      <td>1</td>\n",
       "      <td>Contact Agent</td>\n",
       "    </tr>\n",
       "    <tr>\n",
       "      <th>2</th>\n",
       "      <td>2022-06-23</td>\n",
       "      <td>2</td>\n",
       "      <td>790</td>\n",
       "      <td>2 out of 2</td>\n",
       "      <td>Carpet Area</td>\n",
       "      <td>Kovilancheri</td>\n",
       "      <td>Chennai</td>\n",
       "      <td>Semi-Furnished</td>\n",
       "      <td>Bachelors/Family</td>\n",
       "      <td>2</td>\n",
       "      <td>Contact Owner</td>\n",
       "    </tr>\n",
       "    <tr>\n",
       "      <th>3</th>\n",
       "      <td>2022-06-04</td>\n",
       "      <td>1</td>\n",
       "      <td>400</td>\n",
       "      <td>3 out of 4</td>\n",
       "      <td>Carpet Area</td>\n",
       "      <td>Lajpat Nagar 4</td>\n",
       "      <td>Delhi</td>\n",
       "      <td>Semi-Furnished</td>\n",
       "      <td>Bachelors/Family</td>\n",
       "      <td>1</td>\n",
       "      <td>Contact Agent</td>\n",
       "    </tr>\n",
       "    <tr>\n",
       "      <th>4</th>\n",
       "      <td>2022-06-04</td>\n",
       "      <td>4</td>\n",
       "      <td>2600</td>\n",
       "      <td>Upper Basement out of 20</td>\n",
       "      <td>Carpet Area</td>\n",
       "      <td>Lokhandwala Complex</td>\n",
       "      <td>Mumbai</td>\n",
       "      <td>Unfurnished</td>\n",
       "      <td>Family</td>\n",
       "      <td>4</td>\n",
       "      <td>Contact Agent</td>\n",
       "    </tr>\n",
       "    <tr>\n",
       "      <th>...</th>\n",
       "      <td>...</td>\n",
       "      <td>...</td>\n",
       "      <td>...</td>\n",
       "      <td>...</td>\n",
       "      <td>...</td>\n",
       "      <td>...</td>\n",
       "      <td>...</td>\n",
       "      <td>...</td>\n",
       "      <td>...</td>\n",
       "      <td>...</td>\n",
       "      <td>...</td>\n",
       "    </tr>\n",
       "    <tr>\n",
       "      <th>3792</th>\n",
       "      <td>2022-06-12</td>\n",
       "      <td>2</td>\n",
       "      <td>1100</td>\n",
       "      <td>2 out of 5</td>\n",
       "      <td>Carpet Area</td>\n",
       "      <td>Murugeshpalya, Airport Road</td>\n",
       "      <td>Bangalore</td>\n",
       "      <td>Unfurnished</td>\n",
       "      <td>Bachelors/Family</td>\n",
       "      <td>2</td>\n",
       "      <td>Contact Owner</td>\n",
       "    </tr>\n",
       "    <tr>\n",
       "      <th>3793</th>\n",
       "      <td>2022-06-10</td>\n",
       "      <td>1</td>\n",
       "      <td>400</td>\n",
       "      <td>1 out of 1</td>\n",
       "      <td>Super Area</td>\n",
       "      <td>Vivek Nagar, Garfa</td>\n",
       "      <td>Kolkata</td>\n",
       "      <td>Unfurnished</td>\n",
       "      <td>Bachelors/Family</td>\n",
       "      <td>1</td>\n",
       "      <td>Contact Owner</td>\n",
       "    </tr>\n",
       "    <tr>\n",
       "      <th>3794</th>\n",
       "      <td>2022-06-26</td>\n",
       "      <td>3</td>\n",
       "      <td>2000</td>\n",
       "      <td>1 out of 1</td>\n",
       "      <td>Carpet Area</td>\n",
       "      <td>Kapra</td>\n",
       "      <td>Hyderabad</td>\n",
       "      <td>Semi-Furnished</td>\n",
       "      <td>Bachelors/Family</td>\n",
       "      <td>3</td>\n",
       "      <td>Contact Owner</td>\n",
       "    </tr>\n",
       "    <tr>\n",
       "      <th>3795</th>\n",
       "      <td>2022-06-02</td>\n",
       "      <td>2</td>\n",
       "      <td>717</td>\n",
       "      <td>1 out of 3</td>\n",
       "      <td>Super Area</td>\n",
       "      <td>Sholinganallur</td>\n",
       "      <td>Chennai</td>\n",
       "      <td>Semi-Furnished</td>\n",
       "      <td>Bachelors/Family</td>\n",
       "      <td>2</td>\n",
       "      <td>Contact Owner</td>\n",
       "    </tr>\n",
       "    <tr>\n",
       "      <th>3796</th>\n",
       "      <td>2022-07-02</td>\n",
       "      <td>2</td>\n",
       "      <td>1000</td>\n",
       "      <td>1 out of 4</td>\n",
       "      <td>Carpet Area</td>\n",
       "      <td>Arjun Garh, Aya Nagar</td>\n",
       "      <td>Delhi</td>\n",
       "      <td>Semi-Furnished</td>\n",
       "      <td>Bachelors</td>\n",
       "      <td>2</td>\n",
       "      <td>Contact Agent</td>\n",
       "    </tr>\n",
       "  </tbody>\n",
       "</table>\n",
       "<p>3797 rows × 11 columns</p>\n",
       "</div>"
      ],
      "text/plain": [
       "       posted_on  bhk  size                     floor    area_type  \\\n",
       "0     2022-06-30    2   933                2 out of 5   Super Area   \n",
       "1     2022-06-30    1    40                3 out of 3  Carpet Area   \n",
       "2     2022-06-23    2   790                2 out of 2  Carpet Area   \n",
       "3     2022-06-04    1   400                3 out of 4  Carpet Area   \n",
       "4     2022-06-04    4  2600  Upper Basement out of 20  Carpet Area   \n",
       "...          ...  ...   ...                       ...          ...   \n",
       "3792  2022-06-12    2  1100                2 out of 5  Carpet Area   \n",
       "3793  2022-06-10    1   400                1 out of 1   Super Area   \n",
       "3794  2022-06-26    3  2000                1 out of 1  Carpet Area   \n",
       "3795  2022-06-02    2   717                1 out of 3   Super Area   \n",
       "3796  2022-07-02    2  1000                1 out of 4  Carpet Area   \n",
       "\n",
       "                    area_locality       city furnishing_status  \\\n",
       "0                        Kompally  Hyderabad       Unfurnished   \n",
       "1                   Shalimar bagh      Delhi         Furnished   \n",
       "2                    Kovilancheri    Chennai    Semi-Furnished   \n",
       "3                  Lajpat Nagar 4      Delhi    Semi-Furnished   \n",
       "4             Lokhandwala Complex     Mumbai       Unfurnished   \n",
       "...                           ...        ...               ...   \n",
       "3792  Murugeshpalya, Airport Road  Bangalore       Unfurnished   \n",
       "3793           Vivek Nagar, Garfa    Kolkata       Unfurnished   \n",
       "3794                        Kapra  Hyderabad    Semi-Furnished   \n",
       "3795               Sholinganallur    Chennai    Semi-Furnished   \n",
       "3796        Arjun Garh, Aya Nagar      Delhi    Semi-Furnished   \n",
       "\n",
       "      tenant_preferred  bathroom point_of_contact  \n",
       "0            Bachelors         2    Contact Owner  \n",
       "1     Bachelors/Family         1    Contact Agent  \n",
       "2     Bachelors/Family         2    Contact Owner  \n",
       "3     Bachelors/Family         1    Contact Agent  \n",
       "4               Family         4    Contact Agent  \n",
       "...                ...       ...              ...  \n",
       "3792  Bachelors/Family         2    Contact Owner  \n",
       "3793  Bachelors/Family         1    Contact Owner  \n",
       "3794  Bachelors/Family         3    Contact Owner  \n",
       "3795  Bachelors/Family         2    Contact Owner  \n",
       "3796         Bachelors         2    Contact Agent  \n",
       "\n",
       "[3797 rows x 11 columns]"
      ]
     },
     "execution_count": 135,
     "metadata": {},
     "output_type": "execute_result"
    }
   ],
   "source": [
    "dataFrameFullTrain = pd.concat([trainingData,validationData])\n",
    "dataFrameFullTrain = dataFrameFullTrain.reset_index(drop=True)\n",
    "dataFrameFullTrain"
   ]
  },
  {
   "cell_type": "code",
   "execution_count": 142,
   "metadata": {},
   "outputs": [
    {
     "name": "stderr",
     "output_type": "stream",
     "text": [
      "/tmp/ipykernel_55409/1148178809.py:36: FutureWarning: Downcasting object dtype arrays on .fillna, .ffill, .bfill is deprecated and will change in a future version. Call result.infer_objects(copy=False) instead. To opt-in to the future behavior, set `pd.set_option('future.no_silent_downcasting', True)`\n",
      "  dataFrame['months_on_display'] = dataFrame['months_on_display'].fillna(date.today())\n",
      "/tmp/ipykernel_55409/1148178809.py:59: FutureWarning: Downcasting object dtype arrays on .fillna, .ffill, .bfill is deprecated and will change in a future version. Call result.infer_objects(copy=False) instead. To opt-in to the future behavior, set `pd.set_option('future.no_silent_downcasting', True)`\n",
      "  dataFrame['super_area'] = dataFrame['super_area'].fillna(0)\n",
      "/tmp/ipykernel_55409/1148178809.py:60: FutureWarning: Downcasting object dtype arrays on .fillna, .ffill, .bfill is deprecated and will change in a future version. Call result.infer_objects(copy=False) instead. To opt-in to the future behavior, set `pd.set_option('future.no_silent_downcasting', True)`\n",
      "  dataFrame['carpet_area'] = dataFrame['carpet_area'].fillna(0)\n",
      "/tmp/ipykernel_55409/1148178809.py:61: FutureWarning: Downcasting object dtype arrays on .fillna, .ffill, .bfill is deprecated and will change in a future version. Call result.infer_objects(copy=False) instead. To opt-in to the future behavior, set `pd.set_option('future.no_silent_downcasting', True)`\n",
      "  dataFrame['built_area'] = dataFrame['built_area'].fillna(0)\n"
     ]
    },
    {
     "data": {
      "text/plain": [
       "array([[   2,  933,    2, ...,    1,    0,    0],\n",
       "       [   1,   40,    1, ...,    0,    1,    0],\n",
       "       [   2,  790,    2, ...,    0,    1,    0],\n",
       "       ...,\n",
       "       [   3, 2000,    3, ...,    0,    1,    0],\n",
       "       [   2,  717,    2, ...,    1,    0,    0],\n",
       "       [   2, 1000,    2, ...,    0,    1,    0]])"
      ]
     },
     "execution_count": 142,
     "metadata": {},
     "output_type": "execute_result"
    }
   ],
   "source": [
    "XFullTrain = prepareFeatureMatrix(dataFrameFullTrain)\n",
    "XFullTrain"
   ]
  },
  {
   "cell_type": "code",
   "execution_count": 184,
   "metadata": {},
   "outputs": [],
   "source": [
    "yFullTrain = np.concatenate([yTrain,yValidate])"
   ]
  },
  {
   "cell_type": "code",
   "execution_count": 187,
   "metadata": {},
   "outputs": [
    {
     "data": {
      "text/plain": [
       "np.float64(7.242926722718677)"
      ]
     },
     "execution_count": 187,
     "metadata": {},
     "output_type": "execute_result"
    }
   ],
   "source": [
    "weight, bias = linearRegressionWithRegularizationParameter(XFullTrain,yFullTrain,0.001)\n",
    "weight"
   ]
  },
  {
   "cell_type": "code",
   "execution_count": 190,
   "metadata": {},
   "outputs": [
    {
     "name": "stderr",
     "output_type": "stream",
     "text": [
      "/tmp/ipykernel_55409/1148178809.py:36: FutureWarning: Downcasting object dtype arrays on .fillna, .ffill, .bfill is deprecated and will change in a future version. Call result.infer_objects(copy=False) instead. To opt-in to the future behavior, set `pd.set_option('future.no_silent_downcasting', True)`\n",
      "  dataFrame['months_on_display'] = dataFrame['months_on_display'].fillna(date.today())\n",
      "/tmp/ipykernel_55409/1148178809.py:59: FutureWarning: Downcasting object dtype arrays on .fillna, .ffill, .bfill is deprecated and will change in a future version. Call result.infer_objects(copy=False) instead. To opt-in to the future behavior, set `pd.set_option('future.no_silent_downcasting', True)`\n",
      "  dataFrame['super_area'] = dataFrame['super_area'].fillna(0)\n",
      "/tmp/ipykernel_55409/1148178809.py:60: FutureWarning: Downcasting object dtype arrays on .fillna, .ffill, .bfill is deprecated and will change in a future version. Call result.infer_objects(copy=False) instead. To opt-in to the future behavior, set `pd.set_option('future.no_silent_downcasting', True)`\n",
      "  dataFrame['carpet_area'] = dataFrame['carpet_area'].fillna(0)\n",
      "/tmp/ipykernel_55409/1148178809.py:61: FutureWarning: Downcasting object dtype arrays on .fillna, .ffill, .bfill is deprecated and will change in a future version. Call result.infer_objects(copy=False) instead. To opt-in to the future behavior, set `pd.set_option('future.no_silent_downcasting', True)`\n",
      "  dataFrame['built_area'] = dataFrame['built_area'].fillna(0)\n"
     ]
    },
    {
     "data": {
      "text/plain": [
       "np.float64(0.5732852219144974)"
      ]
     },
     "execution_count": 190,
     "metadata": {},
     "output_type": "execute_result"
    }
   ],
   "source": [
    "XTest = prepareFeatureMatrix(testData)\n",
    "yPrediction = weight + XTest.dot(bias)\n",
    "score = rmse(yTest,yPrediction)\n",
    "score"
   ]
  },
  {
   "cell_type": "code",
   "execution_count": 195,
   "metadata": {},
   "outputs": [],
   "source": [
    "apartment = testData.iloc[20].to_dict()"
   ]
  },
  {
   "cell_type": "code",
   "execution_count": 197,
   "metadata": {},
   "outputs": [
    {
     "name": "stderr",
     "output_type": "stream",
     "text": [
      "/tmp/ipykernel_55409/1148178809.py:36: FutureWarning: Downcasting object dtype arrays on .fillna, .ffill, .bfill is deprecated and will change in a future version. Call result.infer_objects(copy=False) instead. To opt-in to the future behavior, set `pd.set_option('future.no_silent_downcasting', True)`\n",
      "  dataFrame['months_on_display'] = dataFrame['months_on_display'].fillna(date.today())\n",
      "/tmp/ipykernel_55409/1148178809.py:59: FutureWarning: Downcasting object dtype arrays on .fillna, .ffill, .bfill is deprecated and will change in a future version. Call result.infer_objects(copy=False) instead. To opt-in to the future behavior, set `pd.set_option('future.no_silent_downcasting', True)`\n",
      "  dataFrame['super_area'] = dataFrame['super_area'].fillna(0)\n",
      "/tmp/ipykernel_55409/1148178809.py:60: FutureWarning: Downcasting object dtype arrays on .fillna, .ffill, .bfill is deprecated and will change in a future version. Call result.infer_objects(copy=False) instead. To opt-in to the future behavior, set `pd.set_option('future.no_silent_downcasting', True)`\n",
      "  dataFrame['carpet_area'] = dataFrame['carpet_area'].fillna(0)\n",
      "/tmp/ipykernel_55409/1148178809.py:61: FutureWarning: Downcasting object dtype arrays on .fillna, .ffill, .bfill is deprecated and will change in a future version. Call result.infer_objects(copy=False) instead. To opt-in to the future behavior, set `pd.set_option('future.no_silent_downcasting', True)`\n",
      "  dataFrame['built_area'] = dataFrame['built_area'].fillna(0)\n"
     ]
    }
   ],
   "source": [
    "trialPredict = pd.DataFrame([apartment])\n",
    "preparedTrialPredict = prepareFeatureMatrix(trialPredict)\n",
    "# trialPredict"
   ]
  },
  {
   "cell_type": "code",
   "execution_count": 198,
   "metadata": {},
   "outputs": [
    {
     "data": {
      "text/plain": [
       "np.float64(10.193281068736372)"
      ]
     },
     "execution_count": 198,
     "metadata": {},
     "output_type": "execute_result"
    }
   ],
   "source": [
    "yPrediction = weight + preparedTrialPredict.dot(bias)\n",
    "yPrediction = yPrediction[0]\n",
    "yPrediction"
   ]
  },
  {
   "cell_type": "code",
   "execution_count": 199,
   "metadata": {},
   "outputs": [
    {
     "data": {
      "text/plain": [
       "np.float64(26722.031317747045)"
      ]
     },
     "execution_count": 199,
     "metadata": {},
     "output_type": "execute_result"
    }
   ],
   "source": [
    "np.expm1(yPrediction)"
   ]
  },
  {
   "cell_type": "code",
   "execution_count": 202,
   "metadata": {},
   "outputs": [
    {
     "data": {
      "text/plain": [
       "np.float64(12000.0)"
      ]
     },
     "execution_count": 202,
     "metadata": {},
     "output_type": "execute_result"
    }
   ],
   "source": [
    "np.expm1(yTest[20])"
   ]
  }
 ],
 "metadata": {
  "kernelspec": {
   "display_name": "mali",
   "language": "python",
   "name": "python3"
  },
  "language_info": {
   "codemirror_mode": {
    "name": "ipython",
    "version": 3
   },
   "file_extension": ".py",
   "mimetype": "text/x-python",
   "name": "python",
   "nbconvert_exporter": "python",
   "pygments_lexer": "ipython3",
   "version": "3.10.12"
  }
 },
 "nbformat": 4,
 "nbformat_minor": 2
}
